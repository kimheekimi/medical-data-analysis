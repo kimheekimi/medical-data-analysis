{
 "cells": [
  {
   "cell_type": "markdown",
   "metadata": {
    "slideshow": {
     "slide_type": "slide"
    }
   },
   "source": [
    "# Machine Learning Demo - Depict a Phylogenetic Tree with Hierarchical clustering\n",
    "\n",
    "Kim Hee (Graduate research assistant) <br>\n",
    "Universitätsmedizin Mannheim, Mannheim (UMM)\n",
    "\n",
    "* This is prepared for `Data analysis tools (Datenanalysewerkzeuge)` at MIRACUM summer school 2019"
   ]
  },
  {
   "cell_type": "markdown",
   "metadata": {
    "slideshow": {
     "slide_type": "slide"
    }
   },
   "source": [
    "##  How can we relate different species together? \n",
    "<img src=\"./images/panda.png\" style=\"float:left; padding-right:30px; width:50%;\"/>\n",
    "\n",
    "In the decades before DNA sequencing was reliable, the scientists struggled to answer a seemingly simple question: <b>Are giant pandas closer to bears or racoons?</b> (Ref: https://t.ly/Ld1p8)"
   ]
  },
  {
   "cell_type": "markdown",
   "metadata": {
    "slideshow": {
     "slide_type": "slide"
    }
   },
   "source": [
    "### Protocol:\n",
    "<b>1. Import required libraries</b><br>\n",
    "</b>2. Load RNA data ([download](https://rnacentral.org/search))</b><br>\n",
    "</b>3. Sequence alignment - calculate the similarities of sequence </b><br>\n",
    "</b>4. Visualize the result in dendrogram (phylogenetic tree) </b><br>"
   ]
  },
  {
   "cell_type": "code",
   "execution_count": 1,
   "metadata": {
    "slideshow": {
     "slide_type": "fragment"
    }
   },
   "outputs": [],
   "source": [
    "import os\n",
    "from Bio import SeqIO, Phylo\n",
    "from Bio.Seq import Seq\n",
    "from Bio.SeqRecord import SeqRecord\n",
    "from Bio.Alphabet import generic_rna, generic_protein \n",
    "from Bio.Align.Applications import ClustalwCommandline"
   ]
  },
  {
   "cell_type": "markdown",
   "metadata": {
    "slideshow": {
     "slide_type": "fragment"
    }
   },
   "source": [
    "[Biopython](https://biopython.org/) is a freely available tool for biological computation written in Python by an international team of developers. <br>"
   ]
  },
  {
   "cell_type": "markdown",
   "metadata": {
    "slideshow": {
     "slide_type": "slide"
    }
   },
   "source": [
    "### Protocol:\n",
    "</b>1. Import required libraries</b><br>\n",
    "<b>2. Load RNA data ([download](https://rnacentral.org/search))</b><br>\n",
    "</b>3. Sequence alignment - calculate the similarities of sequence </b><br>\n",
    "</b>4. Visualize the result in dendrogram (phylogenetic tree) </b><br>"
   ]
  },
  {
   "cell_type": "code",
   "execution_count": 2,
   "metadata": {
    "slideshow": {
     "slide_type": "fragment"
    }
   },
   "outputs": [
    {
     "data": {
      "text/plain": [
       "[SeqRecord(seq=Seq('ACCCAAAGCUAGCCCAAGCAACAAUGACUAGUAAAACCAUUAUGAAACAUUCAA...UUU', SingleLetterAlphabet()), id='panda', name='panda', description='panda Species_panda', dbxrefs=[]),\n",
       " SeqRecord(seq=Seq('AACUAAAACUAGCCCAAACAACAAUCAAUUAAAACUACUACACACAACAAUUAA...CUU', SingleLetterAlphabet()), id='raccoon', name='raccoon', description='raccoon Species_raccoon', dbxrefs=[]),\n",
       " SeqRecord(seq=Seq('GCCCAGAGCUAGCCCAGACAAUAACCAAUCAAACUACCACAGGCCAAUUAAAUA...UUU', SingleLetterAlphabet()), id='black', name='black', description='black bear Species_black bear', dbxrefs=[])]"
      ]
     },
     "execution_count": 2,
     "metadata": {},
     "output_type": "execute_result"
    }
   ],
   "source": [
    "root_dir = \"data\"\n",
    "filename = 'rRNA'\n",
    "FILE_PATH = os.path.join(root_dir, f'{filename}.fasta')\n",
    "records = list(SeqIO.parse(FILE_PATH, \"fasta\"))\n",
    "records"
   ]
  },
  {
   "cell_type": "markdown",
   "metadata": {
    "slideshow": {
     "slide_type": "fragment"
    }
   },
   "source": [
    "<img src='images/amino-acid-table.jpg'  style=\"float:left; padding-right:30px; width:40%;\"/>\n",
    "<b>mRNA to Amino acid chart</b>  \n",
    "\n",
    "* The amino acids specified by each mRNA codon. Multiple codons can code for the same amino acid.\n",
    "* Image source: S. Clancy et al., (2008) Translation: DNA to mRNA to Protein. Nature Education 1(1):101\n",
    "\n",
    "<b>FASTA Format</b>\n",
    "* standard format for representing either nucleotide/ gene sequences or amino acid/ protein sequences\n",
    "* each sequence entry includes a header (begin with \">\"), the sequence, and optional comments (starting with \"#\")\n"
   ]
  },
  {
   "cell_type": "markdown",
   "metadata": {
    "slideshow": {
     "slide_type": "slide"
    }
   },
   "source": [
    "### Protocol:\n",
    "</b>1. Import required libraries</b><br>\n",
    "</b>2. Load RNA data ([download](https://rnacentral.org/search))</b><br>\n",
    "<b>3. Sequence alignment - calculate the similarities of sequence </b><br>\n",
    "</b>4. Visualize the result in dendrogram (phylogenetic tree) </b><br>"
   ]
  },
  {
   "cell_type": "markdown",
   "metadata": {
    "slideshow": {
     "slide_type": "fragment"
    }
   },
   "source": [
    "Clustal \n",
    "* it is a series of widely used computer programs used in Bioinformatics for multiple sequence alignment. There have been many versions of Clustal over the development of the algorithm that are listed below. \n",
    "* it is a general purpose DNA or protein multiple sequence alignment program for three or more sequences. "
   ]
  },
  {
   "cell_type": "markdown",
   "metadata": {
    "slideshow": {
     "slide_type": "fragment"
    }
   },
   "source": [
    "e.g. unit edit distance (Levenshtein distance) between \"kitten\" and \"sitting\" is 3\n",
    "  1. kitten → sitten (substitution of \"k\" by \"s\" at pos 1)\n",
    "  2. sitten → sittin (substitution of \"e\" by \"i\" at pos 5)\n",
    "  3. sittin → sitting (insertion of \"g\" at the end)"
   ]
  },
  {
   "cell_type": "code",
   "execution_count": 3,
   "metadata": {
    "slideshow": {
     "slide_type": "subslide"
    }
   },
   "outputs": [
    {
     "name": "stdout",
     "output_type": "stream",
     "text": [
      "\n",
      "\n",
      "\n",
      " CLUSTAL 2.1 Multiple Sequence Alignments\n",
      "\n",
      "\n",
      "Sequence format is Pearson\n",
      "Sequence 1: panda       1583 bp\n",
      "Sequence 2: raccoon     1587 bp\n",
      "Sequence 3: black       1582 bp\n",
      "Start of Pairwise alignments\n",
      "Aligning...\n",
      "\n",
      "Sequences (1:2) Aligned. Score:  86\n",
      "Sequences (1:3) Aligned. Score:  90\n",
      "Sequences (2:3) Aligned. Score:  87\n",
      "Guide tree file created:   [data/rRNA.dnd]\n",
      "\n",
      "There are 2 groups\n",
      "Start of Multiple Alignment\n",
      "\n",
      "Aligning...\n",
      "Group 1: Sequences:   2      Score:27941\n",
      "Group 2: Sequences:   3      Score:26454\n",
      "Alignment Score 22117\n",
      "\n",
      "CLUSTAL-Alignment file created  [data/rRNA.aln]\n",
      "\n",
      "\n"
     ]
    }
   ],
   "source": [
    "clustalw_cline = ClustalwCommandline(\"clustalw2\", infile=FILE_PATH)\n",
    "stdout, stderr = clustalw_cline()    \n",
    "print(stdout)"
   ]
  },
  {
   "cell_type": "markdown",
   "metadata": {
    "slideshow": {
     "slide_type": "slide"
    }
   },
   "source": [
    "### Protocol:\n",
    "</b>1. Import required libraries</b><br>\n",
    "</b>2. Load RNA data ([download](https://rnacentral.org/search))</b><br>\n",
    "</b>3. Sequence alignment - calculate the similarities of sequence </b><br>\n",
    "<b>4. Visualize the result in dendrogram (phylogenetic tree) </b><br>"
   ]
  },
  {
   "cell_type": "code",
   "execution_count": 4,
   "metadata": {
    "slideshow": {
     "slide_type": "fragment"
    }
   },
   "outputs": [
    {
     "name": "stdout",
     "output_type": "stream",
     "text": [
      "  ______________________________________________ panda\n",
      " |\n",
      "_|_____________________________________________________________________ raccoon\n",
      " |\n",
      " |_______________________________________ black\n",
      "\n"
     ]
    }
   ],
   "source": [
    "newick_path = os.path.join(root_dir, f'{filename}.dnd')\n",
    "tree = Phylo.read(newick_path, \"newick\") # Newick tree format is a way of representing graph-theoretical trees\n",
    "Phylo.draw_ascii(tree)"
   ]
  },
  {
   "cell_type": "code",
   "execution_count": 5,
   "metadata": {
    "slideshow": {
     "slide_type": "skip"
    }
   },
   "outputs": [
    {
     "data": {
      "image/png": "[encoded data removed]",
      "text/plain": [
       "<Figure size 432x288 with 1 Axes>"
      ]
     },
     "metadata": {
      "needs_background": "light"
     },
     "output_type": "display_data"
    }
   ],
   "source": [
    "import matplotlib.pyplot as plt\n",
    "%matplotlib inline  \n",
    "tree.rooted = True\n",
    "Phylo.draw(tree, branch_labels=lambda c: c.branch_length)"
   ]
  },
  {
   "cell_type": "code",
   "execution_count": null,
   "metadata": {},
   "outputs": [],
   "source": []
  }
 ],
 "metadata": {
  "anaconda-cloud": {},
  "celltoolbar": "Slideshow",
  "kernelspec": {
   "display_name": "Python 3",
   "language": "python",
   "name": "python3"
  },
  "language_info": {
   "codemirror_mode": {
    "name": "ipython",
    "version": 3
   },
   "file_extension": ".py",
   "mimetype": "text/x-python",
   "name": "python",
   "nbconvert_exporter": "python",
   "pygments_lexer": "ipython3",
   "version": "3.7.3"
  }
 },
 "nbformat": 4,
 "nbformat_minor": 2
}
