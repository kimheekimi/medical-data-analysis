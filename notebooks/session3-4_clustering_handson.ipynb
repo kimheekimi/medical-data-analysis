{
 "cells": [
  {
   "cell_type": "markdown",
   "metadata": {
    "slideshow": {
     "slide_type": "slide"
    }
   },
   "source": [
    "# [MIRACUM 2019][Session 3] Solution\n",
    "* Kim Hee (Graduate research assistant) \n",
    "* Universitätsmedizin Mannheim, Mannheim (UMM)\n",
    "* This is prepared for a turorial `Data analysis tools (Datenanalysewerkzeuge)`"
   ]
  },
  {
   "cell_type": "markdown",
   "metadata": {
    "slideshow": {
     "slide_type": "slide"
    }
   },
   "source": [
    "# Depict a phylogenetic tree of five species\n",
    "<img src=\"./images/rat.jpg\" style=\"float:left; padding-right:5px; height:130px;\"/>\n",
    "<img src=\"./images/kimi.jpg\" style=\"float:left; padding-right:5px; height:130px;\"/>\n",
    "<img src=\"./images/chim.jpg\" style=\"float:left; padding-right:5px; height:130px;\"/>\n",
    "<img src=\"./images/zebrafish.jpg\" style=\"float:left; padding-right:5px; height:130px;\"/>\n",
    "<img src=\"./images/sheep.jpg\" style=\"float:left; padding-right:5px; height:130px;\"/>   "
   ]
  },
  {
   "cell_type": "markdown",
   "metadata": {
    "slideshow": {
     "slide_type": "slide"
    }
   },
   "source": [
    "### Protocol:\n",
    "<b>1. Import required libraries</b><br>\n",
    "</b>2. Load protein of Hemoglobin subunit alpha data ([download](https://www.uniprot.org/uniprot/?query=hemoglobin&sort=score))</b><br>\n",
    "</b>3. Sequence alignment - calculate the similarities of sequence </b><br>\n",
    "</b>4. Visualize the result in dendrogram (phylogenetic tree) </b><br>"
   ]
  },
  {
   "cell_type": "code",
   "execution_count": 11,
   "metadata": {
    "slideshow": {
     "slide_type": "fragment"
    }
   },
   "outputs": [],
   "source": [
    "from Bio import SeqIO, Phylo\n",
    "from Bio.Align.Applications import ClustalwCommandline"
   ]
  },
  {
   "cell_type": "markdown",
   "metadata": {
    "slideshow": {
     "slide_type": "slide"
    }
   },
   "source": [
    "### Protocol:\n",
    "</b>1. Import required libraries</b><br>\n",
    "<b>2. Load protein of Hemoglobin subunit alpha data ([download](https://www.uniprot.org/uniprot/?query=hemoglobin&sort=score))</b><br>\n",
    "</b>3. Sequence alignment - calculate the similarities of sequence </b><br>\n",
    "</b>4. Visualize the result in dendrogram (phylogenetic tree) </b><br>"
   ]
  },
  {
   "cell_type": "code",
   "execution_count": 6,
   "metadata": {
    "slideshow": {
     "slide_type": "fragment"
    }
   },
   "outputs": [
    {
     "data": {
      "text/plain": [
       "[SeqRecord(seq=Seq('MVLSADDKTNIKNCWGKIGGHGGEYGEEALQRMFAAFPTTKTYFSHIDVSPGSA...KYR', SingleLetterAlphabet()), id='rat', name='rat', description='rat Species_rat', dbxrefs=[]),\n",
       " SeqRecord(seq=Seq('MVLSPADKTNVKAAWGKVGAHAGEYGAEALERMFLSFPTTKTYFPHFDLSHGSA...KYR', SingleLetterAlphabet()), id='human', name='human', description='human Species_human', dbxrefs=[]),\n",
       " SeqRecord(seq=Seq('MSLSDTDKAVVKAIWAKISPKADEIGAEALARMLTVYPQTKTYFSHWADLSPGS...KYR', SingleLetterAlphabet()), id='zebrafish', name='zebrafish', description='zebrafish Species_zebrafish', dbxrefs=[]),\n",
       " SeqRecord(seq=Seq('MVLSAADKSNVKAAWGKVGGNAGAYGAEALERMFLSFPTTKTYFPHFDLSHGSA...KYR', SingleLetterAlphabet()), id='sheep', name='sheep', description='sheep Species_sheep', dbxrefs=[]),\n",
       " SeqRecord(seq=Seq('MVLSPADKTNVKAAWGKVGAHAGEYGAEALERMFLSFPTTKTYFPHFDLSHGSA...KYR', SingleLetterAlphabet()), id='chimpanzee', name='chimpanzee', description='chimpanzee Species_chimpanzee', dbxrefs=[])]"
      ]
     },
     "execution_count": 6,
     "metadata": {},
     "output_type": "execute_result"
    }
   ],
   "source": [
    "FILE_PATH = 'data/protein.fasta'\n",
    "records = list(SeqIO.parse(FILE_PATH, \"fasta\"))\n",
    "records"
   ]
  },
  {
   "cell_type": "markdown",
   "metadata": {
    "slideshow": {
     "slide_type": "slide"
    }
   },
   "source": [
    "### Protocol:\n",
    "</b>1. Import required libraries</b><br>\n",
    "</b>2. Load protein of Hemoglobin subunit alpha data ([download](https://www.uniprot.org/uniprot/?query=hemoglobin&sort=score))</b><br>\n",
    "<b>3. Sequence alignment - calculate the similarities of sequence </b><br>\n",
    "</b>4. Visualize the result in dendrogram (phylogenetic tree) </b><br>"
   ]
  },
  {
   "cell_type": "code",
   "execution_count": 7,
   "metadata": {
    "slideshow": {
     "slide_type": "subslide"
    }
   },
   "outputs": [
    {
     "name": "stdout",
     "output_type": "stream",
     "text": [
      "\n",
      "\n",
      "\n",
      " CLUSTAL 2.1 Multiple Sequence Alignments\n",
      "\n",
      "\n",
      "Sequence format is Pearson\n",
      "Sequence 1: rat          142 aa\n",
      "Sequence 2: human        142 aa\n",
      "Sequence 3: zebrafish    143 aa\n",
      "Sequence 4: sheep        142 aa\n",
      "Sequence 5: chimpanzee   142 aa\n",
      "Start of Pairwise alignments\n",
      "Aligning...\n",
      "\n",
      "Sequences (1:2) Aligned. Score:  78\n",
      "Sequences (1:3) Aligned. Score:  51\n",
      "Sequences (1:4) Aligned. Score:  76\n",
      "Sequences (1:5) Aligned. Score:  78\n",
      "Sequences (2:3) Aligned. Score:  53\n",
      "Sequences (2:4) Aligned. Score:  86\n",
      "Sequences (2:5) Aligned. Score:  100\n",
      "Sequences (3:4) Aligned. Score:  53\n",
      "Sequences (3:5) Aligned. Score:  53\n",
      "Sequences (4:5) Aligned. Score:  86\n",
      "Guide tree file created:   [data/protein.dnd]\n",
      "\n",
      "There are 4 groups\n",
      "Start of Multiple Alignment\n",
      "\n",
      "Aligning...\n",
      "Group 1: Sequences:   2      Score:3061\n",
      "Group 2: Sequences:   3      Score:2877\n",
      "Group 3: Sequences:   4      Score:2764\n",
      "Group 4: Sequences:   5      Score:2355\n",
      "Alignment Score 6225\n",
      "\n",
      "CLUSTAL-Alignment file created  [data/protein.aln]\n",
      "\n",
      "\n"
     ]
    }
   ],
   "source": [
    "clustalw_cline = ClustalwCommandline(\"clustalw2\", infile=FILE_PATH)\n",
    "stdout, stderr = clustalw_cline()    \n",
    "print(stdout)"
   ]
  },
  {
   "cell_type": "markdown",
   "metadata": {
    "slideshow": {
     "slide_type": "slide"
    }
   },
   "source": [
    "### Protocol:\n",
    "</b>1. Import required libraries</b><br>\n",
    "</b>2. Load protein of Hemoglobin subunit alpha data ([download](https://www.uniprot.org/uniprot/?query=hemoglobin&sort=score))</b><br>\n",
    "</b>3. Sequence alignment - calculate the similarities of sequence </b><br>\n",
    "<b>4. Visualize the result in dendrogram (phylogenetic tree) </b><br>"
   ]
  },
  {
   "cell_type": "code",
   "execution_count": 12,
   "metadata": {
    "slideshow": {
     "slide_type": "fragment"
    }
   },
   "outputs": [
    {
     "name": "stdout",
     "output_type": "stream",
     "text": [
      "       ____________________ rat\n",
      "  ____|\n",
      " |    |____________________________________________________________ zebrafish\n",
      " |\n",
      "_|         , human\n",
      " |_________|\n",
      " |         | chimpanzee\n",
      " |\n",
      " |__________ sheep\n",
      "\n"
     ]
    }
   ],
   "source": [
    "newick_path = 'data/protein.dnd'\n",
    "tree = Phylo.read(newick_path, \"newick\")\n",
    "Phylo.draw_ascii(tree)"
   ]
  }
 ],
 "metadata": {
  "anaconda-cloud": {},
  "celltoolbar": "Slideshow",
  "kernelspec": {
   "display_name": "Python 3",
   "language": "python",
   "name": "python3"
  },
  "language_info": {
   "codemirror_mode": {
    "name": "ipython",
    "version": 3
   },
   "file_extension": ".py",
   "mimetype": "text/x-python",
   "name": "python",
   "nbconvert_exporter": "python",
   "pygments_lexer": "ipython3",
   "version": "3.7.3"
  }
 },
 "nbformat": 4,
 "nbformat_minor": 2
}
